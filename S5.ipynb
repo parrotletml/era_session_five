{
 "cells": [
  {
   "cell_type": "markdown",
   "id": "d1f5edb2-99ca-4a92-970a-dc19192ed7ee",
   "metadata": {},
   "source": [
    "### Install Required Libs"
   ]
  },
  {
   "cell_type": "code",
   "execution_count": null,
   "id": "9cc2f508-43e7-462d-aadc-fb16cc97a0a6",
   "metadata": {},
   "outputs": [],
   "source": [
    "!pip install -r requirements.txt"
   ]
  },
  {
   "cell_type": "markdown",
   "id": "b24f6ae7-57a4-438c-8d79-ca99715b1de9",
   "metadata": {},
   "source": [
    "### Get Available Device"
   ]
  },
  {
   "cell_type": "code",
   "execution_count": 1,
   "id": "2557988f-57cc-4a13-85b6-23733ea7bff3",
   "metadata": {},
   "outputs": [
    {
     "name": "stdout",
     "output_type": "stream",
     "text": [
      "Device: cuda\n"
     ]
    }
   ],
   "source": [
    "from utils import get_device\n",
    "device = get_device()\n",
    "print(\"Device:\", device)"
   ]
  },
  {
   "cell_type": "markdown",
   "id": "37b72948-c54b-44f2-b421-3df570e1e6f4",
   "metadata": {},
   "source": [
    "### Prepare MNIST dataset"
   ]
  },
  {
   "cell_type": "code",
   "execution_count": 2,
   "id": "afb7b457-6647-40fb-ba43-c8928cd7bf30",
   "metadata": {},
   "outputs": [],
   "source": [
    "from utils import get_mnist_transform, get_minst_dataset\n",
    "\n",
    "train_transform, test_transform = get_mnist_transform()\n",
    "\n",
    "train_data = get_minst_dataset('train', train_transform)\n",
    "test_data = get_minst_dataset('test', test_transform)"
   ]
  },
  {
   "cell_type": "code",
   "execution_count": 3,
   "id": "c54213fb-1e88-40d0-bc53-6011ec07f290",
   "metadata": {},
   "outputs": [],
   "source": [
    "from utils import get_data_loader\n",
    "\n",
    "batch_size = 512\n",
    "kwargs = {'batch_size': batch_size, 'shuffle': True, 'num_workers': 2, 'pin_memory': True}\n",
    "\n",
    "test_loader = get_data_loader(test_data, kwargs)\n",
    "train_loader = get_data_loader(train_data, kwargs)"
   ]
  },
  {
   "cell_type": "markdown",
   "id": "c9cce95b-8183-4963-bfc3-4b53180a6b47",
   "metadata": {},
   "source": [
    "### Visualize Samples"
   ]
  },
  {
   "cell_type": "code",
   "execution_count": 4,
   "id": "2c755d7e-31cc-4681-aa6d-691e8bd0ff99",
   "metadata": {},
   "outputs": [
    {
     "data": {
      "image/png": "[encoded data removed]",
      "text/plain": [
       "<Figure size 640x480 with 12 Axes>"
      ]
     },
     "metadata": {},
     "output_type": "display_data"
    }
   ],
   "source": [
    "import matplotlib.pyplot as plt\n",
    "\n",
    "batch_data, batch_label = next(iter(train_loader)) \n",
    "\n",
    "fig = plt.figure()\n",
    "\n",
    "for i in range(12):\n",
    "  plt.subplot(3,4,i+1)\n",
    "  plt.tight_layout()\n",
    "  plt.imshow(batch_data[i].squeeze(0), cmap='gray')\n",
    "  plt.title(batch_label[i].item())\n",
    "  plt.xticks([])\n",
    "  plt.yticks([])"
   ]
  },
  {
   "cell_type": "markdown",
   "id": "49d85120-965d-468a-b607-5e981fa63fbd",
   "metadata": {},
   "source": [
    "### Load model and get summary"
   ]
  },
  {
   "cell_type": "code",
   "execution_count": 5,
   "id": "847ab4cc-061d-4b27-a285-5cc83ce5bcf7",
   "metadata": {},
   "outputs": [
    {
     "name": "stdout",
     "output_type": "stream",
     "text": [
      "----------------------------------------------------------------\n",
      "        Layer (type)               Output Shape         Param #\n",
      "================================================================\n",
      "            Conv2d-1           [-1, 32, 26, 26]             320\n",
      "            Conv2d-2           [-1, 64, 24, 24]          18,496\n",
      "            Conv2d-3          [-1, 128, 10, 10]          73,856\n",
      "            Conv2d-4            [-1, 256, 8, 8]         295,168\n",
      "            Linear-5                   [-1, 50]         204,850\n",
      "            Linear-6                   [-1, 10]             510\n",
      "================================================================\n",
      "Total params: 593,200\n",
      "Trainable params: 593,200\n",
      "Non-trainable params: 0\n",
      "----------------------------------------------------------------\n",
      "Input size (MB): 0.00\n",
      "Forward/backward pass size (MB): 0.67\n",
      "Params size (MB): 2.26\n",
      "Estimated Total Size (MB): 2.94\n",
      "----------------------------------------------------------------\n"
     ]
    }
   ],
   "source": [
    "from model import Net\n",
    "from utils import model_summary\n",
    "\n",
    "model = Net().to(device)\n",
    "model_summary(model, input_size=(1, 28, 28))"
   ]
  },
  {
   "cell_type": "markdown",
   "id": "8d204949-2132-42b1-9aab-37f3da22d3be",
   "metadata": {},
   "source": [
    "### Run Model Pipeline"
   ]
  },
  {
   "cell_type": "code",
   "execution_count": 6,
   "id": "48665a98-f948-430e-8725-a189bb5f15f7",
   "metadata": {},
   "outputs": [
    {
     "name": "stdout",
     "output_type": "stream",
     "text": [
      "Adjusting learning rate of group 0 to 1.0000e-02.\n",
      "Epoch 1\n"
     ]
    },
    {
     "name": "stderr",
     "output_type": "stream",
     "text": [
      "Train: Loss=1.9693 Batch_id=117 Accuracy=29.13: 100%|██████████| 118/118 [00:09<00:00, 12.29it/s]\n"
     ]
    },
    {
     "name": "stdout",
     "output_type": "stream",
     "text": [
      "Test set: Average loss: 1.8297, Accuracy: 4257/10000 (42.57%)\n",
      "\n",
      "Adjusting learning rate of group 0 to 1.0000e-02.\n",
      "Epoch 2\n"
     ]
    },
    {
     "name": "stderr",
     "output_type": "stream",
     "text": [
      "Train: Loss=0.3549 Batch_id=117 Accuracy=76.67: 100%|██████████| 118/118 [00:09<00:00, 11.97it/s]\n"
     ]
    },
    {
     "name": "stdout",
     "output_type": "stream",
     "text": [
      "Test set: Average loss: 0.1447, Accuracy: 9563/10000 (95.63%)\n",
      "\n",
      "Adjusting learning rate of group 0 to 1.0000e-02.\n",
      "Epoch 3\n"
     ]
    },
    {
     "name": "stderr",
     "output_type": "stream",
     "text": [
      "Train: Loss=0.1194 Batch_id=117 Accuracy=94.88: 100%|██████████| 118/118 [00:09<00:00, 11.87it/s]\n"
     ]
    },
    {
     "name": "stdout",
     "output_type": "stream",
     "text": [
      "Test set: Average loss: 0.0924, Accuracy: 9716/10000 (97.16%)\n",
      "\n",
      "Adjusting learning rate of group 0 to 1.0000e-02.\n",
      "Epoch 4\n"
     ]
    },
    {
     "name": "stderr",
     "output_type": "stream",
     "text": [
      "Train: Loss=0.0757 Batch_id=117 Accuracy=96.45: 100%|██████████| 118/118 [00:09<00:00, 12.02it/s]\n"
     ]
    },
    {
     "name": "stdout",
     "output_type": "stream",
     "text": [
      "Test set: Average loss: 0.0625, Accuracy: 9799/10000 (97.99%)\n",
      "\n",
      "Adjusting learning rate of group 0 to 1.0000e-02.\n",
      "Epoch 5\n"
     ]
    },
    {
     "name": "stderr",
     "output_type": "stream",
     "text": [
      "Train: Loss=0.1090 Batch_id=117 Accuracy=97.28: 100%|██████████| 118/118 [00:09<00:00, 11.92it/s]\n"
     ]
    },
    {
     "name": "stdout",
     "output_type": "stream",
     "text": [
      "Test set: Average loss: 0.0454, Accuracy: 9860/10000 (98.60%)\n",
      "\n",
      "Adjusting learning rate of group 0 to 1.0000e-02.\n",
      "Epoch 6\n"
     ]
    },
    {
     "name": "stderr",
     "output_type": "stream",
     "text": [
      "Train: Loss=0.1272 Batch_id=117 Accuracy=97.56: 100%|██████████| 118/118 [00:10<00:00, 11.18it/s]\n"
     ]
    },
    {
     "name": "stdout",
     "output_type": "stream",
     "text": [
      "Test set: Average loss: 0.0418, Accuracy: 9872/10000 (98.72%)\n",
      "\n",
      "Adjusting learning rate of group 0 to 1.0000e-02.\n",
      "Epoch 7\n"
     ]
    },
    {
     "name": "stderr",
     "output_type": "stream",
     "text": [
      "Train: Loss=0.0199 Batch_id=117 Accuracy=97.72: 100%|██████████| 118/118 [00:10<00:00, 10.83it/s]\n"
     ]
    },
    {
     "name": "stdout",
     "output_type": "stream",
     "text": [
      "Test set: Average loss: 0.0331, Accuracy: 9896/10000 (98.96%)\n",
      "\n",
      "Adjusting learning rate of group 0 to 1.0000e-02.\n",
      "Epoch 8\n"
     ]
    },
    {
     "name": "stderr",
     "output_type": "stream",
     "text": [
      "Train: Loss=0.0592 Batch_id=117 Accuracy=97.99: 100%|██████████| 118/118 [00:10<00:00, 11.29it/s]\n"
     ]
    },
    {
     "name": "stdout",
     "output_type": "stream",
     "text": [
      "Test set: Average loss: 0.0327, Accuracy: 9883/10000 (98.83%)\n",
      "\n",
      "Adjusting learning rate of group 0 to 1.0000e-02.\n",
      "Epoch 9\n"
     ]
    },
    {
     "name": "stderr",
     "output_type": "stream",
     "text": [
      "Train: Loss=0.0554 Batch_id=117 Accuracy=98.18: 100%|██████████| 118/118 [00:10<00:00, 11.79it/s]\n"
     ]
    },
    {
     "name": "stdout",
     "output_type": "stream",
     "text": [
      "Test set: Average loss: 0.0297, Accuracy: 9902/10000 (99.02%)\n",
      "\n",
      "Adjusting learning rate of group 0 to 1.0000e-02.\n",
      "Epoch 10\n"
     ]
    },
    {
     "name": "stderr",
     "output_type": "stream",
     "text": [
      "Train: Loss=0.0526 Batch_id=117 Accuracy=98.35: 100%|██████████| 118/118 [00:10<00:00, 11.33it/s]\n"
     ]
    },
    {
     "name": "stdout",
     "output_type": "stream",
     "text": [
      "Test set: Average loss: 0.0331, Accuracy: 9898/10000 (98.98%)\n",
      "\n",
      "Adjusting learning rate of group 0 to 1.0000e-02.\n",
      "Epoch 11\n"
     ]
    },
    {
     "name": "stderr",
     "output_type": "stream",
     "text": [
      "Train: Loss=0.0824 Batch_id=117 Accuracy=98.42: 100%|██████████| 118/118 [00:10<00:00, 11.58it/s]\n"
     ]
    },
    {
     "name": "stdout",
     "output_type": "stream",
     "text": [
      "Test set: Average loss: 0.0341, Accuracy: 9885/10000 (98.85%)\n",
      "\n",
      "Adjusting learning rate of group 0 to 1.0000e-02.\n",
      "Epoch 12\n"
     ]
    },
    {
     "name": "stderr",
     "output_type": "stream",
     "text": [
      "Train: Loss=0.0652 Batch_id=117 Accuracy=98.53: 100%|██████████| 118/118 [00:10<00:00, 11.79it/s]\n"
     ]
    },
    {
     "name": "stdout",
     "output_type": "stream",
     "text": [
      "Test set: Average loss: 0.0240, Accuracy: 9922/10000 (99.22%)\n",
      "\n",
      "Adjusting learning rate of group 0 to 1.0000e-02.\n",
      "Epoch 13\n"
     ]
    },
    {
     "name": "stderr",
     "output_type": "stream",
     "text": [
      "Train: Loss=0.0152 Batch_id=117 Accuracy=98.69: 100%|██████████| 118/118 [00:10<00:00, 11.71it/s]\n"
     ]
    },
    {
     "name": "stdout",
     "output_type": "stream",
     "text": [
      "Test set: Average loss: 0.0245, Accuracy: 9917/10000 (99.17%)\n",
      "\n",
      "Adjusting learning rate of group 0 to 1.0000e-02.\n",
      "Epoch 14\n"
     ]
    },
    {
     "name": "stderr",
     "output_type": "stream",
     "text": [
      "Train: Loss=0.0501 Batch_id=117 Accuracy=98.76: 100%|██████████| 118/118 [00:10<00:00, 11.78it/s]\n"
     ]
    },
    {
     "name": "stdout",
     "output_type": "stream",
     "text": [
      "Test set: Average loss: 0.0248, Accuracy: 9915/10000 (99.15%)\n",
      "\n",
      "Adjusting learning rate of group 0 to 1.0000e-02.\n",
      "Epoch 15\n"
     ]
    },
    {
     "name": "stderr",
     "output_type": "stream",
     "text": [
      "Train: Loss=0.0901 Batch_id=117 Accuracy=98.75: 100%|██████████| 118/118 [00:10<00:00, 10.86it/s]\n"
     ]
    },
    {
     "name": "stdout",
     "output_type": "stream",
     "text": [
      "Test set: Average loss: 0.0241, Accuracy: 9916/10000 (99.16%)\n",
      "\n",
      "Adjusting learning rate of group 0 to 1.0000e-03.\n",
      "Epoch 16\n"
     ]
    },
    {
     "name": "stderr",
     "output_type": "stream",
     "text": [
      "Train: Loss=0.0543 Batch_id=117 Accuracy=99.00: 100%|██████████| 118/118 [00:09<00:00, 12.45it/s]\n"
     ]
    },
    {
     "name": "stdout",
     "output_type": "stream",
     "text": [
      "Test set: Average loss: 0.0206, Accuracy: 9932/10000 (99.32%)\n",
      "\n",
      "Adjusting learning rate of group 0 to 1.0000e-03.\n",
      "Epoch 17\n"
     ]
    },
    {
     "name": "stderr",
     "output_type": "stream",
     "text": [
      "Train: Loss=0.0248 Batch_id=117 Accuracy=99.07: 100%|██████████| 118/118 [00:09<00:00, 11.81it/s]\n"
     ]
    },
    {
     "name": "stdout",
     "output_type": "stream",
     "text": [
      "Test set: Average loss: 0.0202, Accuracy: 9930/10000 (99.30%)\n",
      "\n",
      "Adjusting learning rate of group 0 to 1.0000e-03.\n",
      "Epoch 18\n"
     ]
    },
    {
     "name": "stderr",
     "output_type": "stream",
     "text": [
      "Train: Loss=0.0368 Batch_id=117 Accuracy=99.12: 100%|██████████| 118/118 [00:09<00:00, 12.02it/s]\n"
     ]
    },
    {
     "name": "stdout",
     "output_type": "stream",
     "text": [
      "Test set: Average loss: 0.0200, Accuracy: 9927/10000 (99.27%)\n",
      "\n",
      "Adjusting learning rate of group 0 to 1.0000e-03.\n",
      "Epoch 19\n"
     ]
    },
    {
     "name": "stderr",
     "output_type": "stream",
     "text": [
      "Train: Loss=0.0138 Batch_id=117 Accuracy=99.13: 100%|██████████| 118/118 [00:09<00:00, 11.92it/s]\n"
     ]
    },
    {
     "name": "stdout",
     "output_type": "stream",
     "text": [
      "Test set: Average loss: 0.0195, Accuracy: 9930/10000 (99.30%)\n",
      "\n",
      "Adjusting learning rate of group 0 to 1.0000e-03.\n",
      "Epoch 20\n"
     ]
    },
    {
     "name": "stderr",
     "output_type": "stream",
     "text": [
      "Train: Loss=0.0105 Batch_id=117 Accuracy=99.07: 100%|██████████| 118/118 [00:10<00:00, 11.39it/s]\n"
     ]
    },
    {
     "name": "stdout",
     "output_type": "stream",
     "text": [
      "Test set: Average loss: 0.0191, Accuracy: 9931/10000 (99.31%)\n",
      "\n",
      "Adjusting learning rate of group 0 to 1.0000e-03.\n"
     ]
    },
    {
     "data": {
      "image/png": "[encoded data removed]",
      "text/plain": [
       "<Figure size 1500x1000 with 4 Axes>"
      ]
     },
     "metadata": {},
     "output_type": "display_data"
    }
   ],
   "source": [
    "from utils import TTPipeline\n",
    "import torch.nn.functional as F\n",
    "import torch.optim as optim\n",
    "\n",
    "ttp = TTPipeline(model, device)\n",
    "\n",
    "optimizer = optim.SGD(model.parameters(), lr=0.01, momentum=0.9)\n",
    "scheduler = optim.lr_scheduler.StepLR(optimizer, step_size=15, gamma=0.1, verbose=True)\n",
    "\n",
    "criterion = F.cross_entropy # nn.CrossEntropyLoss()\n",
    "num_epochs = 20\n",
    "\n",
    "for epoch in range(1, num_epochs+1):\n",
    "    print(f'Epoch {epoch}')\n",
    "    ttp.train(train_loader, optimizer, criterion)\n",
    "    ttp.test(test_loader, criterion)\n",
    "    scheduler.step()\n",
    "\n",
    "ttp.print_performance()"
   ]
  },
  {
   "cell_type": "markdown",
   "id": "d5d08ad1-81a0-4d83-b538-70fa0f9420fe",
   "metadata": {},
   "source": [
    "### Visualize Model"
   ]
  },
  {
   "cell_type": "code",
   "execution_count": 7,
   "id": "f899033c-756a-48d2-a94a-d6d06d28819b",
   "metadata": {},
   "outputs": [
    {
     "data": {
      "text/plain": [
       "'mnist.png'"
      ]
     },
     "execution_count": 7,
     "metadata": {},
     "output_type": "execute_result"
    }
   ],
   "source": [
    "from torchviz import make_dot\n",
    "\n",
    "batch = next(iter(train_loader))\n",
    "model.eval()\n",
    "yhat = model(batch[0].to(device)) # Give dummy batch to forward().\n",
    "\n",
    "make_dot(yhat, params=dict(list(model.named_parameters()))).render(\"mnist\", format=\"png\")"
   ]
  },
  {
   "cell_type": "code",
   "execution_count": null,
   "id": "c0d1baf6-9f0d-4766-aadb-b83b99041e98",
   "metadata": {},
   "outputs": [],
   "source": []
  }
 ],
 "metadata": {
  "kernelspec": {
   "display_name": "eraenv",
   "language": "python",
   "name": "eraenv"
  },
  "language_info": {
   "codemirror_mode": {
    "name": "ipython",
    "version": 3
   },
   "file_extension": ".py",
   "mimetype": "text/x-python",
   "name": "python",
   "nbconvert_exporter": "python",
   "pygments_lexer": "ipython3",
   "version": "3.8.16"
  }
 },
 "nbformat": 4,
 "nbformat_minor": 5
}
